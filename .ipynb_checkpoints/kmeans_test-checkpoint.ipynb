{
 "cells": [
  {
   "cell_type": "code",
   "execution_count": 1,
   "id": "civic-drunk",
   "metadata": {},
   "outputs": [],
   "source": [
    "import numpy as np\n",
    "import matplotlib.pyplot as plt"
   ]
  },
  {
   "cell_type": "code",
   "execution_count": 2,
   "id": "authorized-salad",
   "metadata": {},
   "outputs": [],
   "source": [
    "np.random.seed(1)"
   ]
  },
  {
   "cell_type": "code",
   "execution_count": 3,
   "id": "piano-spanking",
   "metadata": {},
   "outputs": [],
   "source": [
    "m = 500\n",
    "d = 2\n",
    "X = (np.random.rand(m, d)*10)"
   ]
  },
  {
   "cell_type": "code",
   "execution_count": 4,
   "id": "painful-express",
   "metadata": {},
   "outputs": [],
   "source": [
    "#X"
   ]
  },
  {
   "cell_type": "code",
   "execution_count": 5,
   "id": "furnished-listing",
   "metadata": {},
   "outputs": [],
   "source": [
    "m, d = X.shape\n",
    "k = 5\n"
   ]
  },
  {
   "cell_type": "code",
   "execution_count": 6,
   "id": "sealed-alexander",
   "metadata": {},
   "outputs": [],
   "source": [
    "centers = X[np.random.choice(m, size=k, replace=False)]\\\n",
    "    .reshape(k, 1, d)   # get around issue but need to check\n",
    "init_c = centers.reshape(k, d)"
   ]
  },
  {
   "cell_type": "code",
   "execution_count": 7,
   "id": "numerical-liechtenstein",
   "metadata": {},
   "outputs": [
    {
     "data": {
      "text/plain": [
       "array([[[3.25989812, 8.59489321]],\n",
       "\n",
       "       [[6.29717507, 2.1017401 ]],\n",
       "\n",
       "       [[9.95052322, 0.58362646]],\n",
       "\n",
       "       [[9.03379521, 5.73679487]],\n",
       "\n",
       "       [[5.76755935, 3.11444214]]])"
      ]
     },
     "execution_count": 7,
     "metadata": {},
     "output_type": "execute_result"
    }
   ],
   "source": [
    "centers"
   ]
  },
  {
   "cell_type": "code",
   "execution_count": 8,
   "id": "received-insurance",
   "metadata": {},
   "outputs": [],
   "source": [
    "def sse(center, data):\n",
    "    return ((data - center)**2).sum(axis=-1).T\n",
    "\n",
    "def in_cluster_sse(centers, labels, data):\n",
    "    error = 0\n",
    "    for i, center in enumerate(centers):\n",
    "        error += sse(center, data[np.where(labels == i)]).sum()\n",
    "    return error"
   ]
  },
  {
   "cell_type": "code",
   "execution_count": 9,
   "id": "complete-founder",
   "metadata": {},
   "outputs": [],
   "source": [
    "clust_labels = np.argmin(sse(centers, X), axis=1)\n",
    "error = in_cluster_sse(centers, clust_labels, X)"
   ]
  },
  {
   "cell_type": "code",
   "execution_count": 10,
   "id": "based-logan",
   "metadata": {},
   "outputs": [],
   "source": [
    "#clust_labels"
   ]
  },
  {
   "cell_type": "code",
   "execution_count": 13,
   "id": "dying-bahamas",
   "metadata": {},
   "outputs": [],
   "source": [
    "error\n",
    "thresh = 1e-2"
   ]
  },
  {
   "cell_type": "code",
   "execution_count": 14,
   "id": "martial-question",
   "metadata": {},
   "outputs": [
    {
     "name": "stdout",
     "output_type": "stream",
     "text": [
      "1756.1471005976553\n",
      "91.75873046480706\n",
      "61.811423828573425\n",
      "18.47017406103123\n",
      "5.063510260034036\n",
      "0.9712510412782649\n",
      "0.37640375104183477\n",
      "0.10091370458258098\n",
      "0.0\n"
     ]
    }
   ],
   "source": [
    "converged = False\n",
    "while not converged:\n",
    "    centers = np.array([X[np.where(clust_labels==i)].mean(axis=0) for i in range(centers.shape[0])])\\\n",
    "        .reshape(k, 1, d)\n",
    "    clust_labels = np.argmin(sse(centers, X), axis=1)\n",
    "    new_error = in_cluster_sse(centers, clust_labels, X)\n",
    "    converged = error - new_error < thresh\n",
    "#     print(converged)\n",
    "#     print(error, new_error)\n",
    "    print(error - new_error)\n",
    "    error = new_error"
   ]
  },
  {
   "cell_type": "code",
   "execution_count": 15,
   "id": "homeless-colonial",
   "metadata": {},
   "outputs": [],
   "source": [
    "# old_err = error\n",
    "# centers = np.array([X[np.where(clust_labels==i)].mean(axis=0) for i in range(centers.shape[0])])\\\n",
    "#     .reshape(k, 1, d)\n",
    "# clust_labels = np.argmin(sse(centers, X), axis=1)\n",
    "# error = in_cluster_sse(centers, clust_labels, X)\n",
    "# print(old_err, error)"
   ]
  },
  {
   "cell_type": "code",
   "execution_count": 16,
   "id": "sought-river",
   "metadata": {},
   "outputs": [],
   "source": [
    "# while old_err - error > thresh:\n",
    "#     print(old_err - error)\n",
    "#     old_err = error\n",
    "#     centers = np.array([X[np.where(clust_labels==i)].mean(axis=0) for i in range(centers.shape[0])])\\\n",
    "#         .reshape(k, 1, d)\n",
    "#     clust_labels = np.argmin(sse(centers, X), axis=1)\n",
    "#     error = in_cluster_sse(centers, clust_labels, X)"
   ]
  },
  {
   "cell_type": "code",
   "execution_count": 17,
   "id": "abandoned-incident",
   "metadata": {},
   "outputs": [
    {
     "data": {
      "text/plain": [
       "<matplotlib.collections.PathCollection at 0x7fed7a729990>"
      ]
     },
     "execution_count": 17,
     "metadata": {},
     "output_type": "execute_result"
    },
    {
     "data": {
      "image/png": "[encoded data removed]",
      "text/plain": [
       "<Figure size 432x288 with 1 Axes>"
      ]
     },
     "metadata": {
      "needs_background": "light"
     },
     "output_type": "display_data"
    }
   ],
   "source": [
    "centers = centers.reshape(k, d)\n",
    "plt.scatter(X[:,0], X[:,1])\n",
    "plt.scatter(centers[:,0], centers[:,1])\n",
    "plt.scatter(init_c[:,0], init_c[:,1])"
   ]
  },
  {
   "cell_type": "code",
   "execution_count": 18,
   "id": "simple-southwest",
   "metadata": {},
   "outputs": [
    {
     "data": {
      "text/plain": [
       "array([[2.80880204, 7.69727339],\n",
       "       [5.27568835, 2.82940094],\n",
       "       [8.29348095, 2.59994984],\n",
       "       [7.65692592, 7.47386365],\n",
       "       [1.56380029, 2.37391172]])"
      ]
     },
     "execution_count": 18,
     "metadata": {},
     "output_type": "execute_result"
    }
   ],
   "source": [
    "centers.reshape(k, d)"
   ]
  },
  {
   "cell_type": "code",
   "execution_count": null,
   "id": "maritime-progress",
   "metadata": {},
   "outputs": [],
   "source": []
  },
  {
   "cell_type": "code",
   "execution_count": null,
   "id": "identical-element",
   "metadata": {},
   "outputs": [],
   "source": []
  }
 ],
 "metadata": {
  "kernelspec": {
   "display_name": "Python 3",
   "language": "python",
   "name": "python3"
  },
  "language_info": {
   "codemirror_mode": {
    "name": "ipython",
    "version": 3
   },
   "file_extension": ".py",
   "mimetype": "text/x-python",
   "name": "python",
   "nbconvert_exporter": "python",
   "pygments_lexer": "ipython3",
   "version": "3.7.4"
  }
 },
 "nbformat": 4,
 "nbformat_minor": 5
}
